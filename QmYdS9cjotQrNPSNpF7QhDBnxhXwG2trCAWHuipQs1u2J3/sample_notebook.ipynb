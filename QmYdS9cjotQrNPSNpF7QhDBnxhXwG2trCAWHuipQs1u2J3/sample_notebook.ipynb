{
 "cells": [
  {
   "cell_type": "code",
   "execution_count": null,
   "source": [
    "dataset = 'sample_data'\n",
    "gpu_type = 'A100'"
   ],
   "outputs": [],
   "metadata": {
    "tags": [
     "parameters"
    ]
   }
  },
  {
   "cell_type": "code",
   "execution_count": 1,
   "source": [
    "import tensorflow\n",
    "import datetime\n",
    "\n",
    "print(f\"Time: {datetime.datetime.now()}\")\n",
    "\n",
    "a = 10\n",
    "b = a + 5 #15"
   ],
   "outputs": [
    {
     "output_type": "error",
     "ename": "ModuleNotFoundError",
     "evalue": "No module named 'tensorflow'",
     "traceback": [
      "\u001b[0;31m---------------------------------------------------------------------------\u001b[0m",
      "\u001b[0;31mModuleNotFoundError\u001b[0m                       Traceback (most recent call last)",
      "\u001b[0;32m/tmp/ipykernel_2516246/3690362836.py\u001b[0m in \u001b[0;36m<module>\u001b[0;34m\u001b[0m\n\u001b[0;32m----> 1\u001b[0;31m \u001b[0;32mimport\u001b[0m \u001b[0mtensorflow\u001b[0m\u001b[0;34m\u001b[0m\u001b[0;34m\u001b[0m\u001b[0m\n\u001b[0m\u001b[1;32m      2\u001b[0m \u001b[0;32mimport\u001b[0m \u001b[0mdatetime\u001b[0m\u001b[0;34m\u001b[0m\u001b[0;34m\u001b[0m\u001b[0m\n\u001b[1;32m      3\u001b[0m \u001b[0;34m\u001b[0m\u001b[0m\n\u001b[1;32m      4\u001b[0m \u001b[0mget_ipython\u001b[0m\u001b[0;34m(\u001b[0m\u001b[0;34m)\u001b[0m\u001b[0;34m.\u001b[0m\u001b[0msystem\u001b[0m\u001b[0;34m(\u001b[0m\u001b[0;34m'pip install six'\u001b[0m\u001b[0;34m)\u001b[0m\u001b[0;34m\u001b[0m\u001b[0;34m\u001b[0m\u001b[0m\n\u001b[1;32m      5\u001b[0m \u001b[0;34m\u001b[0m\u001b[0m\n",
      "\u001b[0;31mModuleNotFoundError\u001b[0m: No module named 'tensorflow'"
     ]
    }
   ],
   "metadata": {}
  },
  {
   "cell_type": "code",
   "execution_count": null,
   "source": [
    "from IPython.display import Image\n",
    "\n",
    "url = 'https://same-project.github.io/SAME-samples/test-artifacts/FaroeIslands.jpeg'\n",
    "\n",
    "print(f\"Time: {datetime.datetime.now()}\")\n",
    "\n",
    "a = a + 5\n",
    "b = b + 10 #25\n",
    "\n",
    "from IPython import display\n",
    "display.Image(url)\n"
   ],
   "outputs": [],
   "metadata": {}
  },
  {
   "cell_type": "code",
   "execution_count": null,
   "source": [
    "import plotly\n",
    "\n",
    "print(f\"Time: {datetime.datetime.now()}\")\n",
    "\n",
    "def some_math(x, z) -> tuple:\n",
    "    return (round(x + z, 2), round(x / z, 2))\n",
    "\n",
    "a = a * 20\n",
    "b = b * 100 #2500\n",
    "\n",
    "print(f\"B = {b}\")"
   ],
   "outputs": [],
   "metadata": {}
  },
  {
   "cell_type": "code",
   "execution_count": null,
   "source": [
    "import numpy as np\n",
    "import matplotlib.pyplot as plt\n",
    "import scipy.stats as stats\n",
    "\n",
    "print(f\"Time: {datetime.datetime.now()}\")\n",
    "\n",
    "mu = 0\n",
    "std = 1\n",
    "\n",
    "x = np.linspace(start=-4, stop=4, num=100)\n",
    "y = stats.norm.pdf(x, mu, std)\n",
    "\n",
    "a = a + 5\n",
    "b = b + 10 # 2515 \n",
    "\n",
    "plt.plot(x, y)\n",
    "plt.show()"
   ],
   "outputs": [],
   "metadata": {
    "tags": [
     "same_step_1",
     "image=python:3.8-slim-buster"
    ]
   }
  },
  {
   "cell_type": "code",
   "execution_count": 1,
   "source": [
    "import requests\n",
    "import pandas as pd\n",
    "import plotly.figure_factory as ff\n",
    "import chart_studio.plotly as py\n",
    "\n",
    "print(f\"Time: {datetime.datetime.now()}\")\n",
    "\n",
    "url = 'https://same-project.github.io/SAME-samples/test-artifacts/test.csv'\n",
    "df = pd.read_csv(url)\n",
    "\n",
    "a = a * 1000\n",
    "b = b / 67 # 37.5373134328\n",
    "\n",
    "df.describe()"
   ],
   "outputs": [
    {
     "output_type": "error",
     "ename": "ModuleNotFoundError",
     "evalue": "No module named 'plotly'",
     "traceback": [
      "\u001b[0;31m---------------------------------------------------------------------------\u001b[0m",
      "\u001b[0;31mModuleNotFoundError\u001b[0m                       Traceback (most recent call last)",
      "\u001b[0;32m/var/folders/f_/6hhd4mmx7z734psc7n4m7ygc0000gn/T/ipykernel_14216/1596852947.py\u001b[0m in \u001b[0;36m<module>\u001b[0;34m\u001b[0m\n\u001b[1;32m      1\u001b[0m \u001b[0;32mimport\u001b[0m \u001b[0mrequests\u001b[0m\u001b[0;34m\u001b[0m\u001b[0;34m\u001b[0m\u001b[0m\n\u001b[1;32m      2\u001b[0m \u001b[0;32mimport\u001b[0m \u001b[0mpandas\u001b[0m \u001b[0;32mas\u001b[0m \u001b[0mpd\u001b[0m\u001b[0;34m\u001b[0m\u001b[0;34m\u001b[0m\u001b[0m\n\u001b[0;32m----> 3\u001b[0;31m \u001b[0;32mimport\u001b[0m \u001b[0mplotly\u001b[0m\u001b[0;34m.\u001b[0m\u001b[0mfigure_factory\u001b[0m \u001b[0;32mas\u001b[0m \u001b[0mff\u001b[0m\u001b[0;34m\u001b[0m\u001b[0;34m\u001b[0m\u001b[0m\n\u001b[0m\u001b[1;32m      4\u001b[0m \u001b[0;32mimport\u001b[0m \u001b[0mchart_studio\u001b[0m\u001b[0;34m.\u001b[0m\u001b[0mplotly\u001b[0m \u001b[0;32mas\u001b[0m \u001b[0mpy\u001b[0m\u001b[0;34m\u001b[0m\u001b[0;34m\u001b[0m\u001b[0m\n\u001b[1;32m      5\u001b[0m \u001b[0;34m\u001b[0m\u001b[0m\n",
      "\u001b[0;31mModuleNotFoundError\u001b[0m: No module named 'plotly'"
     ]
    }
   ],
   "metadata": {}
  },
  {
   "cell_type": "code",
   "execution_count": null,
   "source": [
    "a = a + 5\n",
    "b = b + 10 # 47.5373134328\n",
    "print(f\"Time: {datetime.datetime.now()}\")"
   ],
   "outputs": [],
   "metadata": {
    "tags": [
     "same_step_2"
    ]
   }
  },
  {
   "cell_type": "code",
   "execution_count": null,
   "source": [
    "g = some_math(8, 21)\n",
    "print(f\"Time: {datetime.datetime.now()}\")"
   ],
   "outputs": [],
   "metadata": {}
  },
  {
   "cell_type": "code",
   "execution_count": null,
   "source": [
    "j = g[0]\n",
    "k = g[1]\n",
    "\n",
    "print(f\"Time: {datetime.datetime.now()}\")\n",
    "\n",
    "a = a + 5\n",
    "b = b + 10 # 57.5373134328\n",
    "\n",
    "print(f\"j: {j}\")"
   ],
   "outputs": [],
   "metadata": {}
  },
  {
   "cell_type": "code",
   "execution_count": null,
   "source": [
    "print(f\"k: {k}\")\n",
    "\n",
    "print(f\"Time: {datetime.datetime.now()}\")\n",
    "\n",
    "a = a + 5\n",
    "b = b + 10 # 67.5373134328"
   ],
   "outputs": [],
   "metadata": {}
  },
  {
   "cell_type": "code",
   "execution_count": null,
   "source": [
    "print(\"0.0.2\")\n",
    "print(f\"Time: {datetime.datetime.now()}\")"
   ],
   "outputs": [],
   "metadata": {}
  },
  {
   "cell_type": "code",
   "execution_count": null,
   "source": [
    "print(f\"Accessing the value of B: {b}\")\n",
    "print(f\"Time: {datetime.datetime.now()}\")"
   ],
   "outputs": [],
   "metadata": {}
  },
  {
   "cell_type": "code",
   "execution_count": null,
   "source": [],
   "outputs": [],
   "metadata": {}
  }
 ],
 "metadata": {
  "celltoolbar": "Tags",
  "kernelspec": {
   "display_name": "Python 3 (ipykernel)",
   "language": "python",
   "name": "python3"
  },
  "language_info": {
   "codemirror_mode": {
    "name": "ipython",
    "version": 3
   },
   "file_extension": ".py",
   "mimetype": "text/x-python",
   "name": "python",
   "nbconvert_exporter": "python",
   "pygments_lexer": "ipython3",
   "version": "3.9.6"
  }
 },
 "nbformat": 4,
 "nbformat_minor": 5
}